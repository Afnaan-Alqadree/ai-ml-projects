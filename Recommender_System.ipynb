{
  "nbformat": 4,
  "nbformat_minor": 0,
  "metadata": {
    "colab": {
      "provenance": [],
      "authorship_tag": "ABX9TyO2zYEwZt2hDkc5oNmLYduw",
      "include_colab_link": true
    },
    "kernelspec": {
      "name": "python3",
      "display_name": "Python 3"
    },
    "language_info": {
      "name": "python"
    }
  },
  "cells": [
    {
      "cell_type": "markdown",
      "metadata": {
        "id": "view-in-github",
        "colab_type": "text"
      },
      "source": [
        "<a href=\"https://colab.research.google.com/github/Afnaan-Alqadree/ai-ml-projects/blob/main/Recommender_System.ipynb\" target=\"_parent\"><img src=\"https://colab.research.google.com/assets/colab-badge.svg\" alt=\"Open In Colab\"/></a>"
      ]
    },
    {
      "cell_type": "code",
      "execution_count": 11,
      "metadata": {
        "colab": {
          "base_uri": "https://localhost:8080/"
        },
        "id": "zozLSDhGUqqA",
        "outputId": "4b7f377d-3ab7-474b-9c67-b2b83ebb21a3"
      },
      "outputs": [
        {
          "output_type": "stream",
          "name": "stdout",
          "text": [
            "Collecting scikit-surprise\n",
            "  Downloading scikit_surprise-1.1.4.tar.gz (154 kB)\n",
            "\u001b[2K     \u001b[90m━━━━━━━━━━━━━━━━━━━━━━━━━━━━━━━━━━━━━━━\u001b[0m \u001b[32m154.4/154.4 kB\u001b[0m \u001b[31m2.8 MB/s\u001b[0m eta \u001b[36m0:00:00\u001b[0m\n",
            "\u001b[?25h  Installing build dependencies ... \u001b[?25l\u001b[?25hdone\n",
            "  Getting requirements to build wheel ... \u001b[?25l\u001b[?25hdone\n",
            "  Preparing metadata (pyproject.toml) ... \u001b[?25l\u001b[?25hdone\n",
            "Requirement already satisfied: joblib>=1.2.0 in /usr/local/lib/python3.11/dist-packages (from scikit-surprise) (1.4.2)\n",
            "Requirement already satisfied: numpy>=1.19.5 in /usr/local/lib/python3.11/dist-packages (from scikit-surprise) (2.0.2)\n",
            "Requirement already satisfied: scipy>=1.6.0 in /usr/local/lib/python3.11/dist-packages (from scikit-surprise) (1.14.1)\n",
            "Building wheels for collected packages: scikit-surprise\n",
            "  Building wheel for scikit-surprise (pyproject.toml) ... \u001b[?25l\u001b[?25hdone\n",
            "  Created wheel for scikit-surprise: filename=scikit_surprise-1.1.4-cp311-cp311-linux_x86_64.whl size=2505222 sha256=1b09e7b4ad344bcd83ef3aa057e3a085642272bcc6e29f8e09bb943c53a02b0f\n",
            "  Stored in directory: /root/.cache/pip/wheels/2a/8f/6e/7e2899163e2d85d8266daab4aa1cdabec7a6c56f83c015b5af\n",
            "Successfully built scikit-surprise\n",
            "Installing collected packages: scikit-surprise\n",
            "Successfully installed scikit-surprise-1.1.4\n"
          ]
        }
      ],
      "source": [
        "pip install scikit-surprise"
      ]
    },
    {
      "cell_type": "code",
      "source": [
        "!pip uninstall -y numpy\n",
        "!pip install numpy==1.24.4\n",
        "!pip install scikit-surprise"
      ],
      "metadata": {
        "colab": {
          "base_uri": "https://localhost:8080/",
          "height": 564
        },
        "id": "1TuFdf2ZcVGk",
        "outputId": "b2938e60-aedf-4ae4-8da6-70c26cf5cc2c"
      },
      "execution_count": 1,
      "outputs": [
        {
          "output_type": "stream",
          "name": "stdout",
          "text": [
            "Found existing installation: numpy 1.24.4\n",
            "Uninstalling numpy-1.24.4:\n",
            "  Successfully uninstalled numpy-1.24.4\n",
            "Collecting numpy==1.24.4\n",
            "  Using cached numpy-1.24.4-cp311-cp311-manylinux_2_17_x86_64.manylinux2014_x86_64.whl.metadata (5.6 kB)\n",
            "Using cached numpy-1.24.4-cp311-cp311-manylinux_2_17_x86_64.manylinux2014_x86_64.whl (17.3 MB)\n",
            "Installing collected packages: numpy\n",
            "\u001b[31mERROR: pip's dependency resolver does not currently take into account all the packages that are installed. This behaviour is the source of the following dependency conflicts.\n",
            "pymc 5.21.2 requires numpy>=1.25.0, but you have numpy 1.24.4 which is incompatible.\n",
            "tensorflow 2.18.0 requires numpy<2.1.0,>=1.26.0, but you have numpy 1.24.4 which is incompatible.\n",
            "treescope 0.1.9 requires numpy>=1.25.2, but you have numpy 1.24.4 which is incompatible.\n",
            "jax 0.5.2 requires numpy>=1.25, but you have numpy 1.24.4 which is incompatible.\n",
            "blosc2 3.3.0 requires numpy>=1.26, but you have numpy 1.24.4 which is incompatible.\n",
            "thinc 8.3.6 requires numpy<3.0.0,>=2.0.0, but you have numpy 1.24.4 which is incompatible.\n",
            "jaxlib 0.5.1 requires numpy>=1.25, but you have numpy 1.24.4 which is incompatible.\u001b[0m\u001b[31m\n",
            "\u001b[0mSuccessfully installed numpy-1.24.4\n"
          ]
        },
        {
          "output_type": "display_data",
          "data": {
            "application/vnd.colab-display-data+json": {
              "pip_warning": {
                "packages": [
                  "numpy"
                ]
              },
              "id": "641de52bc19f401cafe1d6cb65d780ff"
            }
          },
          "metadata": {}
        },
        {
          "output_type": "stream",
          "name": "stdout",
          "text": [
            "\u001b[31mERROR: Operation cancelled by user\u001b[0m\u001b[31m\n",
            "\u001b[0mTraceback (most recent call last):\n",
            "  File \"/usr/local/lib/python3.11/dist-packages/pip/_internal/cli/base_command.py\", line 179, in exc_logging_wrapper\n",
            "    status = run_func(*args)\n",
            "             ^^^^^^^^^^^^^^^\n",
            "  File \"/usr/local/lib/python3.11/dist-packages/pip/_internal/cli/req_command.py\", line 67, in wrapper\n",
            "    return func(self, options, args)\n",
            "           ^^^^^^^^^^^^^^^^^^^^^^^^^\n",
            "  File \"/usr/local/lib/python3.11/dist-packages/pip/_internal/commands/install.py\", line 362, in run\n",
            "^C\n"
          ]
        }
      ]
    },
    {
      "cell_type": "code",
      "source": [
        "import pandas as pd\n",
        "\n",
        "# Convert u.data to ratings.csv\n",
        "ratings_columns = ['user_id', 'movie_id', 'rating', 'timestamp']\n",
        "ratings = pd.read_csv('u.data', sep='\\t', names=ratings_columns)\n",
        "ratings.to_csv('ratings.csv', index=False)\n",
        "print(\"✅ ratings.csv created!\")\n",
        "\n",
        "# Convert u.item to movies.csv\n",
        "movies_columns = [\n",
        "    \"movie_id\", \"title\", \"release_date\", \"video_release_date\", \"IMDb_URL\",\n",
        "    \"unknown\", \"Action\", \"Adventure\", \"Animation\", \"Children's\", \"Comedy\", \"Crime\",\n",
        "    \"Documentary\", \"Drama\", \"Fantasy\", \"Film-Noir\", \"Horror\", \"Musical\", \"Mystery\",\n",
        "    \"Romance\", \"Sci-Fi\", \"Thriller\", \"War\", \"Western\"\n",
        "]\n",
        "movies = pd.read_csv('u.item', sep='|', names=movies_columns, encoding='latin-1')\n",
        "movies.to_csv('movies.csv', index=False)\n",
        "print(\"✅ movies.csv created!\")\n"
      ],
      "metadata": {
        "colab": {
          "base_uri": "https://localhost:8080/"
        },
        "id": "GKvEsqQfVWpm",
        "outputId": "825927b9-35b0-497c-9da0-7a747ea7608d"
      },
      "execution_count": 1,
      "outputs": [
        {
          "output_type": "stream",
          "name": "stdout",
          "text": [
            "✅ ratings.csv created!\n",
            "✅ movies.csv created!\n"
          ]
        }
      ]
    },
    {
      "cell_type": "code",
      "source": [
        "from surprise import Dataset, Reader\n",
        "from surprise.model_selection import train_test_split\n",
        "from surprise import accuracy\n",
        "import pandas as pd\n",
        "\n",
        "# Step 1: Load your ratings.csv\n",
        "ratings_df = pd.read_csv(\"ratings.csv\")\n",
        "# Load movies.csv\n",
        "movies_df = pd.read_csv(\"movies.csv\")\n",
        "\n",
        "# Step 2: Load data using surprise\n",
        "reader = Reader(rating_scale=(1, 5))\n",
        "data = Dataset.load_from_df(ratings_df[['user_id', 'movie_id', 'rating']], reader)\n",
        "\n"
      ],
      "metadata": {
        "id": "t4DVHpzxZtw2"
      },
      "execution_count": 7,
      "outputs": []
    },
    {
      "cell_type": "code",
      "source": [
        "from surprise.model_selection import GridSearchCV\n",
        "from surprise import KNNWithMeans\n",
        "\n",
        "# Define the parameter grid\n",
        "param_grid = {\n",
        "    \"sim_options\": {\n",
        "        \"name\": [\"cosine\", \"msd\"],\n",
        "        \"user_based\": [True, False],\n",
        "        \"min_support\": [3, 5]\n",
        "    }\n",
        "}\n",
        "\n",
        "# Create the GridSearchCV object\n",
        "gs = GridSearchCV(KNNWithMeans, param_grid, measures=['rmse', 'mae'], cv=3)\n",
        "gs.fit(data)\n",
        "\n",
        "# Output the best score and parameters\n",
        "print(\"✅ Best RMSE:\", gs.best_score['rmse'])\n",
        "print(\"✅ Best Params:\", gs.best_params['rmse'])\n",
        "\n",
        "# Now use the best model\n",
        "algo = gs.best_estimator['rmse']\n"
      ],
      "metadata": {
        "colab": {
          "base_uri": "https://localhost:8080/"
        },
        "id": "_Xsfhu5Twm6Z",
        "outputId": "efe309e9-354b-4128-a6c7-a9d8f651dd67"
      },
      "execution_count": 8,
      "outputs": [
        {
          "output_type": "stream",
          "name": "stdout",
          "text": [
            "Computing the cosine similarity matrix...\n",
            "Done computing similarity matrix.\n",
            "Computing the cosine similarity matrix...\n",
            "Done computing similarity matrix.\n",
            "Computing the cosine similarity matrix...\n",
            "Done computing similarity matrix.\n",
            "Computing the cosine similarity matrix...\n",
            "Done computing similarity matrix.\n",
            "Computing the cosine similarity matrix...\n",
            "Done computing similarity matrix.\n",
            "Computing the cosine similarity matrix...\n",
            "Done computing similarity matrix.\n",
            "Computing the cosine similarity matrix...\n",
            "Done computing similarity matrix.\n",
            "Computing the cosine similarity matrix...\n",
            "Done computing similarity matrix.\n",
            "Computing the cosine similarity matrix...\n",
            "Done computing similarity matrix.\n",
            "Computing the cosine similarity matrix...\n",
            "Done computing similarity matrix.\n",
            "Computing the cosine similarity matrix...\n",
            "Done computing similarity matrix.\n",
            "Computing the cosine similarity matrix...\n",
            "Done computing similarity matrix.\n",
            "Computing the msd similarity matrix...\n",
            "Done computing similarity matrix.\n",
            "Computing the msd similarity matrix...\n",
            "Done computing similarity matrix.\n",
            "Computing the msd similarity matrix...\n",
            "Done computing similarity matrix.\n",
            "Computing the msd similarity matrix...\n",
            "Done computing similarity matrix.\n",
            "Computing the msd similarity matrix...\n",
            "Done computing similarity matrix.\n",
            "Computing the msd similarity matrix...\n",
            "Done computing similarity matrix.\n",
            "Computing the msd similarity matrix...\n",
            "Done computing similarity matrix.\n",
            "Computing the msd similarity matrix...\n",
            "Done computing similarity matrix.\n",
            "Computing the msd similarity matrix...\n",
            "Done computing similarity matrix.\n",
            "Computing the msd similarity matrix...\n",
            "Done computing similarity matrix.\n",
            "Computing the msd similarity matrix...\n",
            "Done computing similarity matrix.\n",
            "Computing the msd similarity matrix...\n",
            "Done computing similarity matrix.\n",
            "✅ Best RMSE: 0.9427337652933533\n",
            "✅ Best Params: {'sim_options': {'name': 'msd', 'user_based': False, 'min_support': 3}}\n"
          ]
        }
      ]
    },
    {
      "cell_type": "code",
      "source": [
        "from surprise import SVD\n",
        "\n",
        "# Define the parameter grid for SVD\n",
        "param_grid_svd = {\n",
        "    \"n_epochs\": [5, 10],\n",
        "    \"lr_all\": [0.002, 0.005],\n",
        "    \"reg_all\": [0.4, 0.6]\n",
        "}\n",
        "\n",
        "# Create GridSearchCV object for SVD\n",
        "gs_svd = GridSearchCV(SVD, param_grid_svd, measures=[\"rmse\", \"mae\"], cv=3)\n",
        "gs_svd.fit(data)\n",
        "\n",
        "# Output best score and parameters\n",
        "print(\"✅ Best RMSE (SVD):\", gs_svd.best_score['rmse'])\n",
        "print(\"✅ Best Params (SVD):\", gs_svd.best_params['rmse'])\n",
        "\n",
        "# Use the best SVD model\n",
        "algo_svd = gs_svd.best_estimator['rmse']\n"
      ],
      "metadata": {
        "colab": {
          "base_uri": "https://localhost:8080/"
        },
        "id": "dVdzBLQ14p7P",
        "outputId": "d28ca621-df02-4bb6-fcff-dcc8f3bc1abc"
      },
      "execution_count": 12,
      "outputs": [
        {
          "output_type": "stream",
          "name": "stdout",
          "text": [
            "✅ Best RMSE (SVD): 0.9635273262787454\n",
            "✅ Best Params (SVD): {'n_epochs': 10, 'lr_all': 0.005, 'reg_all': 0.4}\n"
          ]
        }
      ]
    },
    {
      "cell_type": "code",
      "source": [
        "# Compare RMSE from both models\n",
        "if gs.best_score['rmse'] < gs_svd.best_score['rmse']:\n",
        "    print(\"Using KNNWithMeans model\")\n",
        "    algo = gs.best_estimator['rmse']\n",
        "else:\n",
        "    print(\"Using SVD model\")\n",
        "    algo = algo_svd\n"
      ],
      "metadata": {
        "colab": {
          "base_uri": "https://localhost:8080/"
        },
        "id": "A6QelBmE4vmJ",
        "outputId": "088dd7a9-977e-490a-8225-f9f1819488cd"
      },
      "execution_count": 13,
      "outputs": [
        {
          "output_type": "stream",
          "name": "stdout",
          "text": [
            "Using KNNWithMeans model\n"
          ]
        }
      ]
    },
    {
      "cell_type": "code",
      "source": [
        "\n",
        "trainset, testset = train_test_split(data, test_size=0.25, random_state=42)\n",
        "\n",
        "# Fit the best algorithm\n",
        "algo.fit(trainset)\n",
        "\n",
        "# Predict on test set\n",
        "predictions = algo.test(testset)\n",
        "\n",
        "# Evaluate\n",
        "rmse = accuracy.rmse(predictions)\n",
        "print(f\"RMSE: {rmse:.4f}\")"
      ],
      "metadata": {
        "colab": {
          "base_uri": "https://localhost:8080/"
        },
        "id": "FnyDW47Ywmk8",
        "outputId": "0e041fb6-5cf2-4065-b386-4b9fb0d563ce"
      },
      "execution_count": 14,
      "outputs": [
        {
          "output_type": "stream",
          "name": "stdout",
          "text": [
            "Computing the msd similarity matrix...\n",
            "Done computing similarity matrix.\n",
            "RMSE: 0.9391\n",
            "RMSE: 0.9391\n"
          ]
        }
      ]
    },
    {
      "cell_type": "code",
      "source": [
        "from collections import defaultdict\n",
        "\n",
        "# Get top N recommendations for all users\n",
        "def get_top_n(predictions, n=10):\n",
        "    top_n = defaultdict(list)\n",
        "    for uid, iid, true_r, est, _ in predictions:\n",
        "        top_n[uid].append((iid, est))\n",
        "\n",
        "    # Keep top N for each user\n",
        "    for uid, user_ratings in top_n.items():\n",
        "        top_n[uid] = sorted(user_ratings, key=lambda x: x[1], reverse=True)[:n]\n",
        "\n",
        "    return top_n\n",
        "\n",
        "top_n = get_top_n(predictions, n=10)\n",
        "\n",
        "\n",
        "\n",
        "# Show top 10 recommended movies for a specific user (e.g., User 1)\n",
        "user_id = 1\n",
        "\n",
        "print(f\"\\n🎬 Top 10 movie recommendations for User {user_id}:\")\n",
        "print(f\"{'Movie ID':<10} {'Title':<40} {'Predicted Rating'}\")\n",
        "print(\"=\" * 70)\n",
        "\n",
        "for movie_id, score in top_n[user_id]:\n",
        "    # Get movie title using movie_id\n",
        "    title = movies_df[movies_df['movie_id'] == movie_id]['title'].values\n",
        "    title = title[0] if len(title) > 0 else \"Unknown Title\"\n",
        "\n",
        "    print(f\"{movie_id:<10} {title:<40} {score:.2f}\")\n"
      ],
      "metadata": {
        "colab": {
          "base_uri": "https://localhost:8080/"
        },
        "id": "xvjUvzo2ajYX",
        "outputId": "1dfd4d45-27d2-445c-bb42-8a327f050caf"
      },
      "execution_count": 20,
      "outputs": [
        {
          "output_type": "stream",
          "name": "stdout",
          "text": [
            "\n",
            "🎬 Top 10 movie recommendations for User 1:\n",
            "Movie ID   Title                                    Predicted Rating\n",
            "======================================================================\n",
            "199        Bridge on the River Kwai, The (1957)     4.62\n",
            "98         Silence of the Lambs, The (1991)         4.62\n",
            "251        Shall We Dance? (1996)                   4.60\n",
            "190        Henry V (1989)                           4.58\n",
            "134        Citizen Kane (1941)                      4.56\n",
            "170        Cinema Paradiso (1988)                   4.49\n",
            "195        Terminator, The (1984)                   4.49\n",
            "180        Apocalypse Now (1979)                    4.45\n",
            "56         Pulp Fiction (1994)                      4.45\n",
            "59         Three Colors: Red (1994)                 4.34\n"
          ]
        }
      ]
    }
  ]
}