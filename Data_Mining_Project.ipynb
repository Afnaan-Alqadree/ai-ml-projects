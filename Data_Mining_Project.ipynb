{
  "cells": [
    {
      "cell_type": "markdown",
      "metadata": {
        "id": "view-in-github",
        "colab_type": "text"
      },
      "source": [
        "<a href=\"https://colab.research.google.com/github/Afnaan-Alqadree/ai-ml-projects/blob/main/Data_Mining_Project.ipynb\" target=\"_parent\"><img src=\"https://colab.research.google.com/assets/colab-badge.svg\" alt=\"Open In Colab\"/></a>"
      ]
    },
    {
      "cell_type": "markdown",
      "metadata": {
        "id": "vwnNlNIEwoZ8"
      },
      "source": [
        "# Libraries"
      ]
    },
    {
      "cell_type": "code",
      "source": [
        "from sklearn.model_selection import train_test_split\n",
        "from sklearn.svm import SVC\n",
        "from sklearn.neighbors import KNeighborsClassifier\n",
        "from sklearn.metrics import confusion_matrix, classification_report\n",
        "from imblearn.over_sampling import SMOTE\n",
        "from sklearn.preprocessing import StandardScaler\n",
        "import numpy as np\n",
        "import pandas as pd\n",
        "import matplotlib.pyplot as plt\n",
        "import seaborn as sns"
      ],
      "metadata": {
        "id": "nS6xDkeveI-R"
      },
      "execution_count": null,
      "outputs": []
    },
    {
      "cell_type": "markdown",
      "source": [
        "# Step 1: Generate a 2D dataset with NaN values"
      ],
      "metadata": {
        "id": "dX8QNau2ensI"
      }
    },
    {
      "cell_type": "code",
      "source": [
        "np.random.seed(42)\n",
        "num_samples, num_features = 50, 5\n",
        "data = np.random.randint(1, 100, size=(num_samples, num_features)).astype(float)\n",
        "\n",
        "# Convert to DataFrame for better visualization\n",
        "df = pd.DataFrame(data, columns=[f\"Feature_{i+1}\" for i in range(num_features)])\n",
        "\n",
        "# Display the dataset\n",
        "print(\"Generated 2D Dataset (First 5 Rows):\")\n",
        "print(df.head())"
      ],
      "metadata": {
        "id": "uTlyws4aeqRa",
        "outputId": "357bbd1a-d07f-4dc7-a76f-0016013faf64",
        "colab": {
          "base_uri": "https://localhost:8080/"
        }
      },
      "execution_count": null,
      "outputs": [
        {
          "output_type": "stream",
          "name": "stdout",
          "text": [
            "Generated 2D Dataset (First 5 Rows):\n",
            "   Feature_1  Feature_2  Feature_3  Feature_4  Feature_5\n",
            "0       52.0       93.0       15.0       72.0       61.0\n",
            "1       21.0       83.0       87.0       75.0       75.0\n",
            "2       88.0       24.0        3.0       22.0       53.0\n",
            "3        2.0       88.0       30.0       38.0        2.0\n",
            "4       64.0       60.0       21.0       33.0       76.0\n"
          ]
        }
      ]
    },
    {
      "cell_type": "markdown",
      "source": [
        "# Introduce NaN values randomly"
      ],
      "metadata": {
        "id": "VdvlR3WZesqi"
      }
    },
    {
      "cell_type": "code",
      "source": [
        "nan_indices = np.random.choice(num_samples * num_features, size=50, replace=False)\n",
        "\n",
        "# Flatten the dataset and replace selected indices with NaN\n",
        "data_flat = data.flatten()\n",
        "for idx in nan_indices:\n",
        "    data_flat[idx] = np.nan\n",
        "\n",
        "# Reshape the dataset back to its original shape\n",
        "data_with_nan = data_flat.reshape(num_samples, num_features)\n",
        "\n",
        "# Convert back to DataFrame for better visualization\n",
        "df_with_nan = pd.DataFrame(data_with_nan, columns=[f\"Feature_{i+1}\" for i in range(num_features)])\n",
        "\n",
        "# Display the dataset with NaN values\n",
        "print(\"Dataset with NaN values (First 10 Rows):\")\n",
        "print(df_with_nan.head(10))\n"
      ],
      "metadata": {
        "id": "qdQ1VFFAeuTN",
        "outputId": "6aba808c-36c2-4727-dee8-662e2527dcf6",
        "colab": {
          "base_uri": "https://localhost:8080/"
        }
      },
      "execution_count": null,
      "outputs": [
        {
          "output_type": "stream",
          "name": "stdout",
          "text": [
            "Dataset with NaN values (First 10 Rows):\n",
            "   Feature_1  Feature_2  Feature_3  Feature_4  Feature_5\n",
            "0       52.0       93.0       15.0       72.0       61.0\n",
            "1       21.0        NaN       87.0       75.0       75.0\n",
            "2       88.0       24.0        3.0       22.0       53.0\n",
            "3        NaN       88.0       30.0       38.0        2.0\n",
            "4       64.0        NaN       21.0        NaN       76.0\n",
            "5       58.0        NaN       89.0       49.0        NaN\n",
            "6       59.0        NaN       92.0       60.0       80.0\n",
            "7        NaN       62.0       62.0       47.0       62.0\n",
            "8       51.0       55.0       64.0        3.0       51.0\n",
            "9        7.0       21.0       73.0       39.0       18.0\n"
          ]
        }
      ]
    },
    {
      "cell_type": "markdown",
      "source": [
        "# Add a target column (binary classification)"
      ],
      "metadata": {
        "id": "zf9KKyWyewSC"
      }
    },
    {
      "cell_type": "code",
      "source": [
        "target = np.random.choice([0, 1], size=num_samples)\n",
        "df = pd.DataFrame(data_with_nan, columns=[f\"Feature_{i+1}\" for i in range(num_features)])\n",
        "df[\"Target\"] = target\n",
        "\n",
        "# Display the dataset with the target column\n",
        "print(\"Dataset with NaN values and Target Column (First 10 Rows):\")\n",
        "print(df.head(10))\n",
        "print(\"\\nNumber of NaN values remaining in the dataset:\", df.isna().sum().sum())"
      ],
      "metadata": {
        "id": "1bJe7CcQey73",
        "outputId": "f1d3eadd-9dcc-4ada-b74b-aea434788d4c",
        "colab": {
          "base_uri": "https://localhost:8080/"
        }
      },
      "execution_count": null,
      "outputs": [
        {
          "output_type": "stream",
          "name": "stdout",
          "text": [
            "Dataset with NaN values and Target Column (First 10 Rows):\n",
            "   Feature_1  Feature_2  Feature_3  Feature_4  Feature_5  Target\n",
            "0       52.0       93.0       15.0       72.0       61.0       0\n",
            "1       21.0        NaN       87.0       75.0       75.0       0\n",
            "2       88.0       24.0        3.0       22.0       53.0       0\n",
            "3        NaN       88.0       30.0       38.0        2.0       1\n",
            "4       64.0        NaN       21.0        NaN       76.0       1\n",
            "5       58.0        NaN       89.0       49.0        NaN       1\n",
            "6       59.0        NaN       92.0       60.0       80.0       0\n",
            "7        NaN       62.0       62.0       47.0       62.0       1\n",
            "8       51.0       55.0       64.0        3.0       51.0       1\n",
            "9        7.0       21.0       73.0       39.0       18.0       1\n",
            "\n",
            "Number of NaN values remaining in the dataset: 50\n"
          ]
        }
      ]
    },
    {
      "cell_type": "markdown",
      "source": [
        "# Step 2: Handle NaN values by replacing them with the mean of the column"
      ],
      "metadata": {
        "id": "baSwyQywe1Xq"
      }
    },
    {
      "cell_type": "code",
      "source": [
        "df.fillna(df.mean(), inplace=True)\n",
        "\n",
        "# Display the updated dataset\n",
        "print(\"Dataset After Replacing NaN with Column Means (First 10 Rows):\")\n",
        "print(df.head(10))\n",
        "\n",
        "# Verify if any NaN values remain\n",
        "print(\"\\nNumber of NaN values remaining in the dataset:\", df.isna().sum().sum())"
      ],
      "metadata": {
        "id": "InQTpoe-e2Oa",
        "outputId": "160e0080-8e99-4a05-85e4-9754ca63ff52",
        "colab": {
          "base_uri": "https://localhost:8080/"
        }
      },
      "execution_count": null,
      "outputs": [
        {
          "output_type": "stream",
          "name": "stdout",
          "text": [
            "Dataset After Replacing NaN with Column Means (First 10 Rows):\n",
            "   Feature_1  Feature_2  Feature_3  Feature_4  Feature_5  Target\n",
            "0  46.684211  93.000000       15.0  72.000000  61.000000       1\n",
            "1  21.000000  83.000000       87.0  75.000000  53.285714       1\n",
            "2  88.000000  55.317073        3.0  22.000000  53.000000       1\n",
            "3   2.000000  88.000000       30.0  36.230769   2.000000       1\n",
            "4  64.000000  60.000000       21.0  33.000000  76.000000       0\n",
            "5  58.000000  22.000000       89.0  36.230769  91.000000       1\n",
            "6  46.684211  42.000000       92.0  36.230769  80.000000       1\n",
            "7  15.000000  62.000000       62.0  47.000000  53.285714       1\n",
            "8  46.684211  55.000000       64.0   3.000000  51.000000       1\n",
            "9   7.000000  21.000000       73.0  39.000000  18.000000       1\n",
            "\n",
            "Number of NaN values remaining in the dataset: 0\n"
          ]
        }
      ]
    },
    {
      "cell_type": "markdown",
      "source": [
        "# Step 3: Split the dataset into features (X) and target (y)"
      ],
      "metadata": {
        "id": "ROkzJ2Cxe3l0"
      }
    },
    {
      "cell_type": "code",
      "source": [
        "X = df.drop(\"Target\", axis=1)  # Features\n",
        "y = df[\"Target\"]              # Target\n",
        "\n",
        "# Display the first few rows of the features (X)\n",
        "print(\"Features (X) - First 5 Rows:\")\n",
        "print(X.head())\n",
        "\n",
        "# Display the first few values of the target (y)\n",
        "print(\"\\nTarget (y) - First 10 Values:\")\n",
        "print(y.head(10).to_list())"
      ],
      "metadata": {
        "id": "dufpsVMFe49I",
        "outputId": "c1d5c8c5-d6cb-4f15-91bc-547a254d7f82",
        "colab": {
          "base_uri": "https://localhost:8080/"
        }
      },
      "execution_count": null,
      "outputs": [
        {
          "output_type": "stream",
          "name": "stdout",
          "text": [
            "Features (X) - First 5 Rows:\n",
            "   Feature_1  Feature_2  Feature_3  Feature_4  Feature_5\n",
            "0  46.684211  93.000000       15.0  72.000000  61.000000\n",
            "1  21.000000  83.000000       87.0  75.000000  53.285714\n",
            "2  88.000000  55.317073        3.0  22.000000  53.000000\n",
            "3   2.000000  88.000000       30.0  36.230769   2.000000\n",
            "4  64.000000  60.000000       21.0  33.000000  76.000000\n",
            "\n",
            "Target (y) - First 10 Values:\n",
            "[1, 1, 1, 1, 0, 1, 1, 1, 1, 1]\n"
          ]
        }
      ]
    },
    {
      "cell_type": "markdown",
      "source": [
        "# Step 4: Split into training and testing sets"
      ],
      "metadata": {
        "id": "QEoqektpe6wa"
      }
    },
    {
      "cell_type": "code",
      "source": [
        "X_train, X_test, y_train, y_test = train_test_split(X, y, test_size=0.2, random_state=42)\n",
        "\n",
        "# Display the shapes of the resulting datasets\n",
        "print(\"Training Features (X_train) Shape:\", X_train.shape)\n",
        "print(\"Testing Features (X_test) Shape:\", X_test.shape)\n",
        "print(\"Training Target (y_train) Shape:\", y_train.shape)\n",
        "print(\"Testing Target (y_test) Shape:\", y_test.shape)\n",
        "\n",
        "# Optionally, display a few rows from the training set for verification\n",
        "print(\"\\nFirst 5 Rows of Training Features (X_train):\")\n",
        "print(X_train.head())\n",
        "print(\"\\nFirst 5 Values of Training Target (y_train):\")\n",
        "print(y_train.head().to_list())"
      ],
      "metadata": {
        "id": "baUoE0aEe9xG",
        "outputId": "9d719792-6b0c-47f7-f1eb-1c5f239dc130",
        "colab": {
          "base_uri": "https://localhost:8080/"
        }
      },
      "execution_count": null,
      "outputs": [
        {
          "output_type": "stream",
          "name": "stdout",
          "text": [
            "Training Features (X_train) Shape: (40, 5)\n",
            "Testing Features (X_test) Shape: (10, 5)\n",
            "Training Target (y_train) Shape: (40,)\n",
            "Testing Target (y_test) Shape: (10,)\n",
            "\n",
            "First 5 Rows of Training Features (X_train):\n",
            "    Feature_1  Feature_2  Feature_3  Feature_4  Feature_5\n",
            "12  60.000000       71.0       44.0  36.230769  47.000000\n",
            "4   64.000000       60.0       21.0  33.000000  76.000000\n",
            "37  75.000000       92.0       89.0  36.230769  53.285714\n",
            "8   46.684211       55.0       64.0   3.000000  51.000000\n",
            "3    2.000000       88.0       30.0  36.230769   2.000000\n",
            "\n",
            "First 5 Values of Training Target (y_train):\n",
            "[1, 0, 1, 1, 1]\n"
          ]
        }
      ]
    },
    {
      "cell_type": "markdown",
      "source": [
        "# Step 5: Apply SVM"
      ],
      "metadata": {
        "id": "j8bzWu6we_i7"
      }
    },
    {
      "cell_type": "code",
      "source": [
        "sm = SMOTE(random_state=42)\n",
        "X_train_balanced, y_train_balanced = sm.fit_resample(X_train, y_train)\n",
        "\n",
        "# Train with RBF kernel\n",
        "svm_model = SVC(kernel=\"rbf\", random_state=42)\n",
        "svm_model.fit(X_train_balanced, y_train_balanced)\n",
        "\n",
        "# Predict and evaluate\n",
        "y_pred_svm = svm_model.predict(X_test)\n",
        "print(\"Confusion Matrix for SVM (RBF Kernel):\")\n",
        "print(confusion_matrix(y_test, y_pred_svm))\n",
        "print(\"\\nClassification Report for SVM (RBF Kernel):\")\n",
        "print(classification_report(y_test, y_pred_svm))"
      ],
      "metadata": {
        "id": "vwuSXropfA2j",
        "outputId": "4529073c-35c5-4acc-f4e6-80fe82c518a9",
        "colab": {
          "base_uri": "https://localhost:8080/"
        }
      },
      "execution_count": null,
      "outputs": [
        {
          "output_type": "stream",
          "name": "stdout",
          "text": [
            "Confusion Matrix for SVM (RBF Kernel):\n",
            "[[1 4]\n",
            " [2 3]]\n",
            "\n",
            "Classification Report for SVM (RBF Kernel):\n",
            "              precision    recall  f1-score   support\n",
            "\n",
            "           0       0.33      0.20      0.25         5\n",
            "           1       0.43      0.60      0.50         5\n",
            "\n",
            "    accuracy                           0.40        10\n",
            "   macro avg       0.38      0.40      0.38        10\n",
            "weighted avg       0.38      0.40      0.38        10\n",
            "\n"
          ]
        }
      ]
    },
    {
      "cell_type": "markdown",
      "source": [
        "# Step 6: Apply KNN"
      ],
      "metadata": {
        "id": "rKqO6lI3fCSA"
      }
    },
    {
      "cell_type": "code",
      "source": [
        "sm = SMOTE(random_state=42)\n",
        "X_train_balanced, y_train_balanced = sm.fit_resample(X_train, y_train)\n",
        "\n",
        "# Scale features for KNN\n",
        "scaler = StandardScaler()\n",
        "X_train_scaled = scaler.fit_transform(X_train_balanced)\n",
        "X_test_scaled = scaler.transform(X_test)\n",
        "\n",
        "# Train KNN with k=3\n",
        "knn_model = KNeighborsClassifier(n_neighbors=3)\n",
        "knn_model.fit(X_train_scaled, y_train_balanced)\n",
        "\n",
        "# Predict and evaluate\n",
        "y_pred_knn = knn_model.predict(X_test_scaled)\n",
        "print(\"Confusion Matrix for KNN:\")\n",
        "print(confusion_matrix(y_test, y_pred_knn))\n",
        "print(\"\\nClassification Report for KNN:\")\n",
        "print(classification_report(y_test, y_pred_knn))"
      ],
      "metadata": {
        "id": "ng_L6iQUfDrE",
        "outputId": "0d870f7f-7acc-46dd-e2d0-cc12f86aa257",
        "colab": {
          "base_uri": "https://localhost:8080/"
        }
      },
      "execution_count": null,
      "outputs": [
        {
          "output_type": "stream",
          "name": "stdout",
          "text": [
            "Confusion Matrix for KNN:\n",
            "[[1 4]\n",
            " [2 3]]\n",
            "\n",
            "Classification Report for KNN:\n",
            "              precision    recall  f1-score   support\n",
            "\n",
            "           0       0.33      0.20      0.25         5\n",
            "           1       0.43      0.60      0.50         5\n",
            "\n",
            "    accuracy                           0.40        10\n",
            "   macro avg       0.38      0.40      0.38        10\n",
            "weighted avg       0.38      0.40      0.38        10\n",
            "\n"
          ]
        }
      ]
    },
    {
      "cell_type": "markdown",
      "source": [
        "# Step 7: Evaluate and display confusion matrices"
      ],
      "metadata": {
        "id": "yoReLPrTfFGc"
      }
    },
    {
      "cell_type": "code",
      "source": [
        "conf_matrix_svm = confusion_matrix(y_test, y_pred_svm)\n",
        "conf_matrix_knn = confusion_matrix(y_test, y_pred_knn)\n",
        "\n",
        "# Display confusion matrices with heatmaps\n",
        "plt.figure(figsize=(12, 5))\n",
        "\n",
        "# SVM Confusion Matrix\n",
        "plt.subplot(1, 2, 1)\n",
        "sns.heatmap(conf_matrix_svm, annot=True, fmt=\"d\", cmap=\"Blues\", xticklabels=[0, 1], yticklabels=[0, 1])\n",
        "plt.title(\"SVM Confusion Matrix\")\n",
        "plt.xlabel(\"Predicted\")\n",
        "plt.ylabel(\"Actual\")\n",
        "\n",
        "# KNN Confusion Matrix\n",
        "plt.subplot(1, 2, 2)\n",
        "sns.heatmap(conf_matrix_knn, annot=True, fmt=\"d\", cmap=\"Greens\", xticklabels=[0, 1], yticklabels=[0, 1])\n",
        "plt.title(\"KNN Confusion Matrix\")\n",
        "plt.xlabel(\"Predicted\")\n",
        "plt.ylabel(\"Actual\")\n",
        "\n",
        "plt.tight_layout()\n",
        "plt.show()"
      ],
      "metadata": {
        "id": "coyD44M5fGvw",
        "outputId": "5a12f105-f791-4557-bec7-14efc21199c8",
        "colab": {
          "base_uri": "https://localhost:8080/",
          "height": 446
        }
      },
      "execution_count": null,
      "outputs": [
        {
          "output_type": "display_data",
          "data": {
            "text/plain": [
              "<Figure size 1200x500 with 4 Axes>"
            ],
            "image/png": "[encoded data removed]"
          },
          "metadata": {}
        }
      ]
    },
    {
      "cell_type": "markdown",
      "source": [
        "# Display Summary of Results"
      ],
      "metadata": {
        "id": "xdYza___fIkZ"
      }
    },
    {
      "cell_type": "code",
      "source": [
        "svm_report = classification_report(y_test, y_pred_svm, target_names=[\"Class 0\", \"Class 1\"])\n",
        "knn_report = classification_report(y_test, y_pred_knn, target_names=[\"Class 0\", \"Class 1\"])\n",
        "\n",
        "# Display results summary\n",
        "print(\"=== Final Dataset (First 5 Rows) ===\")\n",
        "print(df.head())\n",
        "\n",
        "print(\"\\n=== SVM Results ===\")\n",
        "print(\"Confusion Matrix for SVM:\")\n",
        "print(conf_matrix_svm)\n",
        "print(\"\\nClassification Report for SVM:\")\n",
        "print(svm_report)\n",
        "\n",
        "print(\"\\n=== KNN Results ===\")\n",
        "print(\"Confusion Matrix for KNN:\")\n",
        "print(conf_matrix_knn)\n",
        "print(\"\\nClassification Report for KNN:\")\n",
        "print(knn_report)"
      ],
      "metadata": {
        "id": "wyL2op5yfKl9",
        "outputId": "d456a225-ba2c-400e-a17a-d06de128471e",
        "colab": {
          "base_uri": "https://localhost:8080/"
        }
      },
      "execution_count": null,
      "outputs": [
        {
          "output_type": "stream",
          "name": "stdout",
          "text": [
            "=== Final Dataset (First 5 Rows) ===\n",
            "   Feature_1  Feature_2  Feature_3  Feature_4  Feature_5  Target\n",
            "0  46.684211  93.000000       15.0  72.000000  61.000000       1\n",
            "1  21.000000  83.000000       87.0  75.000000  53.285714       1\n",
            "2  88.000000  55.317073        3.0  22.000000  53.000000       1\n",
            "3   2.000000  88.000000       30.0  36.230769   2.000000       1\n",
            "4  64.000000  60.000000       21.0  33.000000  76.000000       0\n",
            "\n",
            "=== SVM Results ===\n",
            "Confusion Matrix for SVM:\n",
            "[[1 4]\n",
            " [2 3]]\n",
            "\n",
            "Classification Report for SVM:\n",
            "              precision    recall  f1-score   support\n",
            "\n",
            "     Class 0       0.33      0.20      0.25         5\n",
            "     Class 1       0.43      0.60      0.50         5\n",
            "\n",
            "    accuracy                           0.40        10\n",
            "   macro avg       0.38      0.40      0.38        10\n",
            "weighted avg       0.38      0.40      0.38        10\n",
            "\n",
            "\n",
            "=== KNN Results ===\n",
            "Confusion Matrix for KNN:\n",
            "[[1 4]\n",
            " [2 3]]\n",
            "\n",
            "Classification Report for KNN:\n",
            "              precision    recall  f1-score   support\n",
            "\n",
            "     Class 0       0.33      0.20      0.25         5\n",
            "     Class 1       0.43      0.60      0.50         5\n",
            "\n",
            "    accuracy                           0.40        10\n",
            "   macro avg       0.38      0.40      0.38        10\n",
            "weighted avg       0.38      0.40      0.38        10\n",
            "\n"
          ]
        }
      ]
    }
  ],
  "metadata": {
    "colab": {
      "provenance": [],
      "include_colab_link": true
    },
    "kernelspec": {
      "display_name": "Python 3",
      "name": "python3"
    }
  },
  "nbformat": 4,
  "nbformat_minor": 0
}